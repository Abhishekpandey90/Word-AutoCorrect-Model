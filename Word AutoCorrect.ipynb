{
  "cells": [
    {
      "cell_type": "markdown",
      "source": [
        "#                                        Project - Word AutoCorrect"
      ],
      "metadata": {
        "id": "MALJAu22PC5Z"
      },
      "id": "MALJAu22PC5Z"
    },
    {
      "cell_type": "markdown",
      "metadata": {
        "id": "WO92Opq8Eum5"
      },
      "source": [
        "## Table of Contents\n",
        "- [0 - Overview](#0)\n",
        "- [1 - Data Preprocessing](#1)\n",
        "   \n",
        "- [2 - String Manipulations](#2)\n",
        "\n",
        "- [3 - Combining the Edits](#3)\n",
        "\n",
        "- [4 - Minimum Edit Distance](#4)\n",
        "    \n",
        "- [5 - Backtrace ](#5)"
      ],
      "id": "WO92Opq8Eum5"
    },
    {
      "cell_type": "markdown",
      "metadata": {
        "id": "HCeKd2L2Eum6"
      },
      "source": [
        "<a name='0'></a>\n",
        "## 0 - Overview\n",
        "\n",
        "We use autocorrect every day on our cell phone and computer. In this we will explore what really goes on behind the scenes. Of course, the model we are about to implement is not identical to the one used in our phone, but it is still quite good.\n",
        "\n",
        "\n",
        "- Get a word count given a corpus\n",
        "- Get a word probability in the corpus\n",
        "- Manipulate strings\n",
        "- Filter strings\n",
        "- Implement Minimum edit distance to compare strings and to help find the optimal path for the edits.\n",
        "- Use gdynamic programming works\n",
        "\n",
        "\n",
        "Similar systems are used everywhere.\n",
        "- For example, if we type in the word **\"I am lerningg\"**, chances are very high that you meant to write **\"learning\"**."
      ],
      "id": "HCeKd2L2Eum6"
    },
    {
      "cell_type": "markdown",
      "metadata": {
        "id": "mM_YnluREum6"
      },
      "source": [],
      "id": "mM_YnluREum6"
    },
    {
      "cell_type": "markdown",
      "metadata": {
        "id": "ERRhGlRlEum6"
      },
      "source": [
        "<a name='0-1'></a>\n",
        "### 0.1 - Edit Distance\n",
        "\n",
        "We will implement models that correct words that are 1 and 2 edit distances away.\n",
        "- We say two words are n edit distance away from each other when we need n edits to change one word into another.\n",
        "\n",
        "An edit could consist of one of the following options:\n",
        "\n",
        "- Delete (remove a letter): ‘hat’ => ‘at, ha, ht’\n",
        "- Switch (swap 2 adjacent letters): ‘eta’ => ‘eat, tea,...’\n",
        "- Replace (change 1 letter to another): ‘jat’ => ‘hat, rat, cat, mat, ...’\n",
        "- Insert (add a letter): ‘te’ => ‘the, ten, ate, ...’\n",
        "\n",
        "We will be using the four methods above to implement an Auto-correct.\n",
        "- To do so, you will need to compute probabilities that a certain word is correct given an input.\n",
        "\n",
        "This auto-correct you are about to implement was first created by Peter Norvig 2007.\n",
        "\n",
        "\n",
        "The goal of our spell check model is to compute the following probability:\n",
        "\n",
        "$$P(c|w) = \\frac{P(w|c)\\times P(c)}{P(w)} \\tag{Eqn-1}$$\n",
        "\n",
        "\n"
      ],
      "id": "ERRhGlRlEum6"
    },
    {
      "cell_type": "markdown",
      "metadata": {
        "id": "099l5b1mEum7"
      },
      "source": [
        "<a name='1'></a>\n",
        "## 1 - Data Preprocessing"
      ],
      "id": "099l5b1mEum7"
    },
    {
      "cell_type": "code",
      "execution_count": 4,
      "metadata": {
        "id": "8KxBHLroEum7"
      },
      "outputs": [],
      "source": [
        "import re\n",
        "from collections import Counter\n",
        "import numpy as np\n",
        "import pandas as pd\n"
      ],
      "id": "8KxBHLroEum7"
    },
    {
      "cell_type": "markdown",
      "metadata": {
        "id": "z7ee82fKEum8"
      },
      "source": [
        "Similar to the machine learning task, the first thing you have to do is process your data set.\n",
        "\n",
        "\n",
        "Our first task is to read in a file called **'shakespeare.txt'** which is found in your file directory."
      ],
      "id": "z7ee82fKEum8"
    },
    {
      "cell_type": "markdown",
      "metadata": {
        "id": "8LbG36fAEum8"
      },
      "source": [
        "<a name='ex-1'></a>\n",
        "### Exercise 1 - process_data\n",
        "Implement the function `process_data` which\n",
        "\n",
        "1) Reads in a corpus (text file)\n",
        "\n",
        "2) Changes everything to lowercase\n",
        "\n",
        "3) Returns a list of words."
      ],
      "id": "8LbG36fAEum8"
    },
    {
      "cell_type": "code",
      "execution_count": 5,
      "metadata": {
        "id": "MAlDKuccEum9"
      },
      "outputs": [],
      "source": [
        "\n",
        "def process_data(file_name):\n",
        "\n",
        "    words = [] # return this variable correctly\n",
        "\n",
        "\n",
        "\n",
        "    #Open the file, read its contents into a string variable\n",
        "    with open(file_name) as f:\n",
        "        file_name_data = f.read()\n",
        "\n",
        "    # convert all letters to lower case\n",
        "    file_name_data = file_name_data.lower()\n",
        "    words = re.findall('\\w+', file_name_data)\n",
        "\n",
        "\n",
        "\n",
        "\n",
        "    return words"
      ],
      "id": "MAlDKuccEum9"
    },
    {
      "cell_type": "markdown",
      "metadata": {
        "id": "Ie1VimTxEum9"
      },
      "source": [
        "Note, in the following cell, 'words' is converted to a python `set`. This eliminates any duplicate entries."
      ],
      "id": "Ie1VimTxEum9"
    },
    {
      "cell_type": "code",
      "execution_count": 6,
      "metadata": {
        "deletable": false,
        "editable": false,
        "colab": {
          "base_uri": "https://localhost:8080/"
        },
        "id": "_rcaoyK1Eum9",
        "outputId": "a641a130-084d-47cf-e70c-350c96cdfc9b"
      },
      "outputs": [
        {
          "output_type": "stream",
          "name": "stdout",
          "text": [
            "The first ten words in the text are: \n",
            "['o', 'for', 'a', 'muse', 'of', 'fire', 'that', 'would', 'ascend', 'the']\n",
            "There are 6116 unique words in the vocabulary.\n"
          ]
        }
      ],
      "source": [
        "word_l = process_data('shakespeare.txt')\n",
        "vocab = set(word_l)  # this will be our new vocabulary\n",
        "print(f\"The first ten words in the text are: \\n{word_l[0:10]}\")\n",
        "print(f\"There are {len(vocab)} unique words in the vocabulary.\")"
      ],
      "id": "_rcaoyK1Eum9"
    },
    {
      "cell_type": "markdown",
      "metadata": {
        "id": "LMPyzNBQEum-"
      },
      "source": [
        "<a name='ex-2'></a>\n",
        "### Exercise 2 - get_count\n",
        "\n",
        "Implement a `get_count` function that returns a dictionary\n",
        "- The dictionary's keys are words\n",
        "- The value for each word is the number of times that word appears in the corpus.\n",
        "\n",
        "\n",
        "\n",
        "\n",
        "\n"
      ],
      "id": "LMPyzNBQEum-"
    },
    {
      "cell_type": "code",
      "execution_count": 7,
      "metadata": {
        "id": "qqyYwj2uEum_"
      },
      "outputs": [],
      "source": [
        "\n",
        "def get_count(word_l):\n",
        "\n",
        "\n",
        "    word_count_dict = {}  # fill this with word counts\n",
        "\n",
        "    word_count_dict = Counter(word_l)\n",
        "\n",
        "    return word_count_dict"
      ],
      "id": "qqyYwj2uEum_"
    },
    {
      "cell_type": "code",
      "execution_count": 8,
      "metadata": {
        "deletable": false,
        "editable": false,
        "colab": {
          "base_uri": "https://localhost:8080/"
        },
        "id": "fwnte-3pEum_",
        "outputId": "097b731f-7489-4db6-8589-a40c0b058716"
      },
      "outputs": [
        {
          "output_type": "stream",
          "name": "stdout",
          "text": [
            "There are 6116 key values pairs\n",
            "The count for the word 'thee' is 240\n"
          ]
        }
      ],
      "source": [
        "word_count_dict = get_count(word_l)\n",
        "print(f\"There are {len(word_count_dict)} key values pairs\")\n",
        "print(f\"The count for the word 'thee' is {word_count_dict.get('thee',0)}\")"
      ],
      "id": "fwnte-3pEum_"
    },
    {
      "cell_type": "markdown",
      "metadata": {
        "id": "72tEymV7Eum_"
      },
      "source": [
        "## get_probs\n",
        "Given the dictionary of word counts, compute the probability that each word will appear if randomly selected from the corpus of words.\n",
        "\n",
        "$$P(w_i) = \\frac{C(w_i)}{M} \\tag{Eqn-2}$$\n",
        "where\n",
        "\n",
        "$C(w_i)$ is the total number of times $w_i$ appears in the corpus.\n",
        "\n",
        "$M$ is the total number of words in the corpus.\n",
        "\n",
        "\n"
      ],
      "id": "72tEymV7Eum_"
    },
    {
      "cell_type": "code",
      "execution_count": 9,
      "metadata": {
        "id": "lSO_UbHuEunA"
      },
      "outputs": [],
      "source": [
        "\n",
        "def get_probs(word_count_dict):\n",
        "\n",
        "    probs = {}  # return this variable correctly\n",
        "\n",
        "\n",
        "    m = sum(word_count_dict.values())\n",
        "    for key in word_count_dict.keys():\n",
        "        probs[key] = word_count_dict[key]/m\n",
        "\n",
        "    # get the total count of words for all words in the dictionary\n",
        "\n",
        "\n",
        "    return probs"
      ],
      "id": "lSO_UbHuEunA"
    },
    {
      "cell_type": "code",
      "execution_count": 10,
      "metadata": {
        "deletable": false,
        "editable": false,
        "colab": {
          "base_uri": "https://localhost:8080/"
        },
        "id": "P3bKJpTMEunA",
        "outputId": "aeb8d4a4-1e43-4aae-cf5c-2cd0cf4ca52c"
      },
      "outputs": [
        {
          "output_type": "stream",
          "name": "stdout",
          "text": [
            "Length of probs is 6116\n",
            "P('thee') is 0.0045\n"
          ]
        }
      ],
      "source": [
        "probs = get_probs(word_count_dict)\n",
        "print(f\"Length of probs is {len(probs)}\")\n",
        "print(f\"P('thee') is {probs['thee']:.4f}\")"
      ],
      "id": "P3bKJpTMEunA"
    },
    {
      "cell_type": "markdown",
      "metadata": {
        "id": "AhQ7uKzrEunA"
      },
      "source": [
        "<a name='2'></a>\n",
        "## 2 - String Manipulations\n",
        "\n",
        "Now that you have computed $P(w_i)$ for all the words in the corpus, you will write a few functions to manipulate strings so that you can edit the erroneous strings and return the right spellings of the words. In this section, you will implement four functions:\n",
        "\n",
        "* `delete_letter`: given a word, it returns all the possible strings that have **one character removed**.\n",
        "* `switch_letter`: given a word, it returns all the possible strings that have **two adjacent letters switched**.\n",
        "* `replace_letter`: given a word, it returns all the possible strings that have **one character replaced by another different letter**.\n",
        "* `insert_letter`: given a word, it returns all the possible strings that have an **additional character inserted**.\n"
      ],
      "id": "AhQ7uKzrEunA"
    },
    {
      "cell_type": "markdown",
      "metadata": {
        "id": "vjvDfWoBEunA"
      },
      "source": [
        "We use list comprehension to sort the code , we can also use for lopp and append function"
      ],
      "id": "vjvDfWoBEunA"
    },
    {
      "cell_type": "markdown",
      "metadata": {
        "id": "sDLtobw5EunB"
      },
      "source": [
        "Python List Comprehensions embed a looping structure inside of a list declaration, collapsing many lines of code into a single line. If you are not familiar with them, they seem slightly out of order relative to for loops."
      ],
      "id": "sDLtobw5EunB"
    },
    {
      "cell_type": "markdown",
      "metadata": {
        "id": "wSRXCXJREunB"
      },
      "source": [
        "### delete_letter\n",
        "\n",
        "For delete_letter():** Implement a `delete_letter()` function that, given a word, returns a list of strings with one character deleted.\n",
        "\n",
        "For example, given the word **nice**, it would return the set: {'ice', 'nce', 'nic', 'nie'}.\n",
        "\n"
      ],
      "id": "wSRXCXJREunB"
    },
    {
      "cell_type": "code",
      "execution_count": 11,
      "metadata": {
        "id": "72ZqM6uBEunH"
      },
      "outputs": [],
      "source": [
        "\n",
        "def delete_letter(word, verbose=False):\n",
        "\n",
        "\n",
        "    delete_l = []\n",
        "    split_l = []\n",
        "\n",
        "\n",
        "    for c in range(len(word)):\n",
        "        split_l.append((word[:c],word[c:]))\n",
        "    for a,b in split_l:\n",
        "        delete_l.append(a+b[1:])\n",
        "\n",
        "\n",
        "    if verbose: print(f\"input word {word}, \\nsplit_l = {split_l}, \\ndelete_l = {delete_l}\")\n",
        "\n",
        "    return  delete_l"
      ],
      "id": "72ZqM6uBEunH"
    },
    {
      "cell_type": "code",
      "execution_count": 12,
      "metadata": {
        "colab": {
          "base_uri": "https://localhost:8080/"
        },
        "id": "2x3i4E5OEunI",
        "outputId": "0e512674-ecbf-49b0-b384-146c101d75fa"
      },
      "outputs": [
        {
          "output_type": "stream",
          "name": "stdout",
          "text": [
            "input word cans, \n",
            "split_l = [('', 'cans'), ('c', 'ans'), ('ca', 'ns'), ('can', 's')], \n",
            "delete_l = ['ans', 'cns', 'cas', 'can']\n"
          ]
        }
      ],
      "source": [
        "delete_word_l = delete_letter(word=\"cans\",\n",
        "                        verbose=True)"
      ],
      "id": "2x3i4E5OEunI"
    },
    {
      "cell_type": "code",
      "execution_count": 13,
      "metadata": {
        "colab": {
          "base_uri": "https://localhost:8080/"
        },
        "id": "j0UmF_YbEunI",
        "outputId": "ab7cb822-267f-4ba5-96f8-8f3098fcabf4"
      },
      "outputs": [
        {
          "output_type": "stream",
          "name": "stdout",
          "text": [
            "Number of outputs of delete_letter('at') is 2\n"
          ]
        }
      ],
      "source": [
        "\n",
        "print(f\"Number of outputs of delete_letter('at') is {len(delete_letter('at'))}\")"
      ],
      "id": "j0UmF_YbEunI"
    },
    {
      "cell_type": "markdown",
      "metadata": {
        "id": "khI65QrkEunJ"
      },
      "source": [
        "\n",
        "###  Switch_letter\n",
        "\n",
        "** Switch_letter()**: Now implement a function that switches two letters in a word. It takes in a word and returns a list of all the possible switches of two letters **that are adjacent to each other**.\n",
        "- For example, given the word 'eta', it returns {'eat', 'tea'}, but does not return 'ate'.\n",
        "\n"
      ],
      "id": "khI65QrkEunJ"
    },
    {
      "cell_type": "code",
      "execution_count": 14,
      "metadata": {
        "lines_to_end_of_cell_marker": 2,
        "id": "OBoFDzvIEunK"
      },
      "outputs": [],
      "source": [
        "\n",
        "def switch_letter(word, verbose=False):\n",
        "\n",
        "\n",
        "    switch_l = []\n",
        "    split_l = []\n",
        "    len_word=len(word)\n",
        "\n",
        "    for c in range(len_word):\n",
        "        split_l.append((word[:c],word[c:]))\n",
        "    switch_l = [a + b[1] + b[0] + b[2:] for a,b in split_l if len(b) >= 2]\n",
        "\n",
        "\n",
        "    if verbose: print(f\"Input word = {word} \\nsplit_l = {split_l} \\nswitch_l = {switch_l}\")\n",
        "\n",
        "    return switch_l"
      ],
      "id": "OBoFDzvIEunK"
    },
    {
      "cell_type": "code",
      "execution_count": 15,
      "metadata": {
        "colab": {
          "base_uri": "https://localhost:8080/"
        },
        "id": "x6SdQQaKEunK",
        "outputId": "17a9c935-a622-4b33-a64f-2bfb694ac797"
      },
      "outputs": [
        {
          "output_type": "stream",
          "name": "stdout",
          "text": [
            "Input word = eta \n",
            "split_l = [('', 'eta'), ('e', 'ta'), ('et', 'a')] \n",
            "switch_l = ['tea', 'eat']\n"
          ]
        }
      ],
      "source": [
        "switch_word_l = switch_letter(word=\"eta\",\n",
        "                         verbose=True)"
      ],
      "id": "x6SdQQaKEunK"
    },
    {
      "cell_type": "code",
      "execution_count": 16,
      "metadata": {
        "colab": {
          "base_uri": "https://localhost:8080/"
        },
        "id": "xw4gBL50EunL",
        "outputId": "890e1f9a-7239-4bfe-ab1a-d9a8bcba3058"
      },
      "outputs": [
        {
          "output_type": "stream",
          "name": "stdout",
          "text": [
            "Number of outputs of switch_letter('at') is 1\n"
          ]
        }
      ],
      "source": [
        "print(f\"Number of outputs of switch_letter('at') is {len(switch_letter('at'))}\")"
      ],
      "id": "xw4gBL50EunL"
    },
    {
      "cell_type": "markdown",
      "metadata": {
        "id": "LJRahCJKEunM"
      },
      "source": [
        "\n",
        "### Replace_letter\n",
        "**For replace_letter()**: Now implement a function that takes in a word and returns a list of strings with one **replaced letter** from the original word.\n"
      ],
      "id": "LJRahCJKEunM"
    },
    {
      "cell_type": "code",
      "execution_count": 17,
      "metadata": {
        "id": "9AreShzYEunM"
      },
      "outputs": [],
      "source": [
        "\n",
        "def replace_letter(word, verbose=False):\n",
        "\n",
        "\n",
        "    letters = 'abcdefghijklmnopqrstuvwxyz'\n",
        "\n",
        "    replace_l = []\n",
        "    split_l = []\n",
        "\n",
        "    for c in range(len(word)):\n",
        "        split_l.append((word[0:c],word[c:]))\n",
        "    replace_l = [a + l + (b[1:] if len(b)> 1 else '') for a,b in split_l if b for l in letters]\n",
        "    replace_set=set(replace_l)\n",
        "    replace_set.remove(word)\n",
        "\n",
        "\n",
        "    # turn the set back into a list and sort it, for easier viewing\n",
        "    replace_l = sorted(list(replace_set))\n",
        "\n",
        "    if verbose: print(f\"Input word = {word} \\nsplit_l = {split_l} \\nreplace_l {replace_l}\")\n",
        "\n",
        "    return replace_l"
      ],
      "id": "9AreShzYEunM"
    },
    {
      "cell_type": "code",
      "execution_count": 18,
      "metadata": {
        "colab": {
          "base_uri": "https://localhost:8080/"
        },
        "id": "DQ0EtuoOEunM",
        "outputId": "109a2096-73dd-4626-fed1-3cfce37391b1"
      },
      "outputs": [
        {
          "output_type": "stream",
          "name": "stdout",
          "text": [
            "Input word = can \n",
            "split_l = [('', 'can'), ('c', 'an'), ('ca', 'n')] \n",
            "replace_l ['aan', 'ban', 'caa', 'cab', 'cac', 'cad', 'cae', 'caf', 'cag', 'cah', 'cai', 'caj', 'cak', 'cal', 'cam', 'cao', 'cap', 'caq', 'car', 'cas', 'cat', 'cau', 'cav', 'caw', 'cax', 'cay', 'caz', 'cbn', 'ccn', 'cdn', 'cen', 'cfn', 'cgn', 'chn', 'cin', 'cjn', 'ckn', 'cln', 'cmn', 'cnn', 'con', 'cpn', 'cqn', 'crn', 'csn', 'ctn', 'cun', 'cvn', 'cwn', 'cxn', 'cyn', 'czn', 'dan', 'ean', 'fan', 'gan', 'han', 'ian', 'jan', 'kan', 'lan', 'man', 'nan', 'oan', 'pan', 'qan', 'ran', 'san', 'tan', 'uan', 'van', 'wan', 'xan', 'yan', 'zan']\n"
          ]
        }
      ],
      "source": [
        "replace_l = replace_letter(word='can',\n",
        "                              verbose=True)"
      ],
      "id": "DQ0EtuoOEunM"
    },
    {
      "cell_type": "code",
      "execution_count": 19,
      "metadata": {
        "colab": {
          "base_uri": "https://localhost:8080/"
        },
        "id": "LeRKfLe6EunN",
        "outputId": "af0c7cdb-0b3a-4726-eb85-1196083e4f11"
      },
      "outputs": [
        {
          "output_type": "stream",
          "name": "stdout",
          "text": [
            "Number of outputs of replace_letter('at') is 50\n"
          ]
        }
      ],
      "source": [
        "# test # 2\n",
        "print(f\"Number of outputs of replace_letter('at') is {len(replace_letter('at'))}\")"
      ],
      "id": "LeRKfLe6EunN"
    },
    {
      "cell_type": "markdown",
      "metadata": {
        "id": "AKJlKBz8EunO"
      },
      "source": [
        "\n",
        "### Insert_letter\n",
        "\n",
        "**Instructions for insert_letter()**: Now implement a function that takes in a word and returns a list with a letter inserted at every offset.\n",
        "\n",
        "**Step 1:** is the same as in `delete_letter()`\n",
        "\n",
        "**Step 2:** This can be a list comprehension of the form:  \n",
        "`[f(a,b,c) for a, b in splits if condition for c in string]`   "
      ],
      "id": "AKJlKBz8EunO"
    },
    {
      "cell_type": "code",
      "execution_count": 20,
      "metadata": {
        "id": "qvcujP90EunO"
      },
      "outputs": [],
      "source": [
        "\n",
        "def insert_letter(word, verbose=False):\n",
        "\n",
        "    letters = 'abcdefghijklmnopqrstuvwxyz'\n",
        "    insert_l = []\n",
        "    split_l = []\n",
        "\n",
        "    for c in range(len(word)+1):\n",
        "        split_l.append((word[0:c],word[c:]))\n",
        "    insert_l = [ a + l + b for a,b in split_l for l in letters]\n",
        "\n",
        "\n",
        "    if verbose: print(f\"Input word {word} \\nsplit_l = {split_l} \\ninsert_l = {insert_l}\")\n",
        "\n",
        "    return insert_l"
      ],
      "id": "qvcujP90EunO"
    },
    {
      "cell_type": "code",
      "execution_count": 21,
      "metadata": {
        "colab": {
          "base_uri": "https://localhost:8080/"
        },
        "id": "OF8uaOU6EunO",
        "outputId": "1d51428b-510b-4151-e5e9-e642204946b1"
      },
      "outputs": [
        {
          "output_type": "stream",
          "name": "stdout",
          "text": [
            "Input word at \n",
            "split_l = [('', 'at'), ('a', 't'), ('at', '')] \n",
            "insert_l = ['aat', 'bat', 'cat', 'dat', 'eat', 'fat', 'gat', 'hat', 'iat', 'jat', 'kat', 'lat', 'mat', 'nat', 'oat', 'pat', 'qat', 'rat', 'sat', 'tat', 'uat', 'vat', 'wat', 'xat', 'yat', 'zat', 'aat', 'abt', 'act', 'adt', 'aet', 'aft', 'agt', 'aht', 'ait', 'ajt', 'akt', 'alt', 'amt', 'ant', 'aot', 'apt', 'aqt', 'art', 'ast', 'att', 'aut', 'avt', 'awt', 'axt', 'ayt', 'azt', 'ata', 'atb', 'atc', 'atd', 'ate', 'atf', 'atg', 'ath', 'ati', 'atj', 'atk', 'atl', 'atm', 'atn', 'ato', 'atp', 'atq', 'atr', 'ats', 'att', 'atu', 'atv', 'atw', 'atx', 'aty', 'atz']\n",
            "Number of strings output by insert_letter('at') is 78\n"
          ]
        }
      ],
      "source": [
        "insert_l = insert_letter('at', True)\n",
        "print(f\"Number of strings output by insert_letter('at') is {len(insert_l)}\")"
      ],
      "id": "OF8uaOU6EunO"
    },
    {
      "cell_type": "markdown",
      "metadata": {
        "id": "UPrd8yf9EunP"
      },
      "source": [
        "<a name='3'></a>\n",
        "## 3 - Combining the Edits\n",
        "\n",
        "Now that you have implemented the string manipulations, you will create two functions that, given a string, will return all the possible single and double edits on that string. These will be `edit_one_letter()` and `edit_two_letters()`."
      ],
      "id": "UPrd8yf9EunP"
    },
    {
      "cell_type": "markdown",
      "metadata": {
        "id": "bI5bko93EunP"
      },
      "source": [
        "<a name='3-1'></a>\n",
        "### 3.1 - Edit One Letter\n",
        "\n",
        "<a name='ex-8'></a>\n",
        "### Exercise 8 - edit_one_letter\n",
        "\n",
        "Implement the `edit_one_letter` function to get all the possible edits that are one edit away from a word. The edits  consist of the replace, insert, delete, and optionally the switch operation. You should use the previous functions you have already implemented to complete this function. The 'switch' function  is a less common edit function, so its use will be selected by an \"allow_switches\" input argument.\n",
        "\n"
      ],
      "id": "bI5bko93EunP"
    },
    {
      "cell_type": "code",
      "execution_count": 22,
      "metadata": {
        "id": "TWQSTBdvEunQ"
      },
      "outputs": [],
      "source": [
        "\n",
        "def edit_one_letter(word, allow_switches = True):\n",
        "\n",
        "\n",
        "    edit_one_set = set()\n",
        "\n",
        "\n",
        "    edit_one_set.update(delete_letter(word))\n",
        "    if allow_switches:\n",
        "        edit_one_set.update(switch_letter(word))\n",
        "    edit_one_set.update(replace_letter(word))\n",
        "    edit_one_set.update(insert_letter(word))\n",
        "\n",
        "    # return this as a set and not a list\n",
        "    return set(edit_one_set)"
      ],
      "id": "TWQSTBdvEunQ"
    },
    {
      "cell_type": "code",
      "execution_count": 23,
      "metadata": {
        "colab": {
          "base_uri": "https://localhost:8080/"
        },
        "id": "-TOHB8YeEunQ",
        "outputId": "34e1e693-946e-4c5a-d8d8-fb6c9fb9a770"
      },
      "outputs": [
        {
          "output_type": "stream",
          "name": "stdout",
          "text": [
            "input word at \n",
            "edit_one_l \n",
            "['a', 'aa', 'aat', 'ab', 'abt', 'ac', 'act', 'ad', 'adt', 'ae', 'aet', 'af', 'aft', 'ag', 'agt', 'ah', 'aht', 'ai', 'ait', 'aj', 'ajt', 'ak', 'akt', 'al', 'alt', 'am', 'amt', 'an', 'ant', 'ao', 'aot', 'ap', 'apt', 'aq', 'aqt', 'ar', 'art', 'as', 'ast', 'ata', 'atb', 'atc', 'atd', 'ate', 'atf', 'atg', 'ath', 'ati', 'atj', 'atk', 'atl', 'atm', 'atn', 'ato', 'atp', 'atq', 'atr', 'ats', 'att', 'atu', 'atv', 'atw', 'atx', 'aty', 'atz', 'au', 'aut', 'av', 'avt', 'aw', 'awt', 'ax', 'axt', 'ay', 'ayt', 'az', 'azt', 'bat', 'bt', 'cat', 'ct', 'dat', 'dt', 'eat', 'et', 'fat', 'ft', 'gat', 'gt', 'hat', 'ht', 'iat', 'it', 'jat', 'jt', 'kat', 'kt', 'lat', 'lt', 'mat', 'mt', 'nat', 'nt', 'oat', 'ot', 'pat', 'pt', 'qat', 'qt', 'rat', 'rt', 'sat', 'st', 't', 'ta', 'tat', 'tt', 'uat', 'ut', 'vat', 'vt', 'wat', 'wt', 'xat', 'xt', 'yat', 'yt', 'zat', 'zt']\n",
            "\n",
            "The type of the returned object should be a set <class 'set'>\n",
            "Number of outputs from edit_one_letter('at') is 129\n"
          ]
        }
      ],
      "source": [
        "tmp_word = \"at\"\n",
        "tmp_edit_one_set = edit_one_letter(tmp_word)\n",
        "# turn this into a list to sort it, in order to view it\n",
        "tmp_edit_one_l = sorted(list(tmp_edit_one_set))\n",
        "\n",
        "print(f\"input word {tmp_word} \\nedit_one_l \\n{tmp_edit_one_l}\\n\")\n",
        "print(f\"The type of the returned object should be a set {type(tmp_edit_one_set)}\")\n",
        "print(f\"Number of outputs from edit_one_letter('at') is {len(edit_one_letter('at'))}\")"
      ],
      "id": "-TOHB8YeEunQ"
    },
    {
      "cell_type": "markdown",
      "metadata": {
        "id": "N_6pC83NEunQ"
      },
      "source": [
        "<a name='3-2'></a>\n",
        "### 3.2 - Edit Two Letters\n",
        "\n",
        "<a name='ex-9'></a>\n",
        "### Exercise 9 - edit_two_letters\n",
        "\n",
        "Now we can generalize this to implement to get two edits on a word. To do so, we have to get all the possible edits on a single word and then for each modified word, you would have to modify it again.\n"
      ],
      "id": "N_6pC83NEunQ"
    },
    {
      "cell_type": "code",
      "execution_count": 24,
      "metadata": {
        "id": "zQBpkwq_EunR"
      },
      "outputs": [],
      "source": [
        "\n",
        "def edit_two_letters(word, allow_switches = True):\n",
        "\n",
        "\n",
        "    edit_two_set = set()\n",
        "\n",
        "    edit_one = edit_one_letter(word,allow_switches=allow_switches)\n",
        "    for w in edit_one:\n",
        "        if w:\n",
        "            edit_two = edit_one_letter(w,allow_switches=allow_switches)\n",
        "            edit_two_set.update(edit_two)\n",
        "\n",
        "\n",
        "    # return this as a set instead of a list\n",
        "    return set(edit_two_set)"
      ],
      "id": "zQBpkwq_EunR"
    },
    {
      "cell_type": "code",
      "execution_count": 25,
      "metadata": {
        "colab": {
          "base_uri": "https://localhost:8080/"
        },
        "id": "fU80d8m4EunR",
        "outputId": "e0ef00e5-79ae-4be7-cbcf-6e229279f9b8"
      },
      "outputs": [
        {
          "output_type": "stream",
          "name": "stdout",
          "text": [
            "Number of strings with edit distance of two: 2654\n",
            "First 10 strings ['', 'a', 'aa', 'aaa', 'aab', 'aac', 'aad', 'aae', 'aaf', 'aag']\n",
            "Last 10 strings ['zv', 'zva', 'zw', 'zwa', 'zx', 'zxa', 'zy', 'zya', 'zz', 'zza']\n",
            "The data type of the returned object should be a set <class 'set'>\n",
            "Number of strings that are 2 edit distances from 'at' is 7154\n"
          ]
        }
      ],
      "source": [
        "tmp_edit_two_set = edit_two_letters(\"a\")\n",
        "tmp_edit_two_l = sorted(list(tmp_edit_two_set))\n",
        "print(f\"Number of strings with edit distance of two: {len(tmp_edit_two_l)}\")\n",
        "print(f\"First 10 strings {tmp_edit_two_l[:10]}\")\n",
        "print(f\"Last 10 strings {tmp_edit_two_l[-10:]}\")\n",
        "print(f\"The data type of the returned object should be a set {type(tmp_edit_two_set)}\")\n",
        "print(f\"Number of strings that are 2 edit distances from 'at' is {len(edit_two_letters('at'))}\")"
      ],
      "id": "fU80d8m4EunR"
    },
    {
      "cell_type": "markdown",
      "metadata": {
        "id": "Ock-BwOJEunS"
      },
      "source": [
        "<a name='3-3'></a>\n",
        "### 3.3 - Suggest Spelling Suggestions\n",
        "\n",
        "Now We will use your `edit_two_letters` function to get a set of all the possible 2 edits on your word. You will then use those strings to get the most probable word you meant to type a.k.a your typing suggestion.\n",
        "\n",
        "<a name='ex-10'></a>\n",
        "### Exercise 10 - get_corrections\n",
        "Implement `get_corrections`, which returns a list of zero to n possible suggestion tuples of the form (word, probability_of_word).\n",
        "\n",
        "Generate suggestions for a supplied word: We'll use the edit functions we have developed. The 'suggestion algorithm' should follow this logic:\n",
        "* If the word is in the vocabulary, suggest the word.\n",
        "* Otherwise, if there are suggestions from `edit_one_letter` that are in the vocabulary, use those.\n",
        "* Otherwise, if there are suggestions from `edit_two_letters` that are in the vocabulary, use those.\n",
        "* Otherwise, suggest the input word.*  \n",
        "* The idea is that words generated from fewer edits are more likely than words with more edits.\n",
        "\n"
      ],
      "id": "Ock-BwOJEunS"
    },
    {
      "cell_type": "markdown",
      "metadata": {
        "id": "585DVQpwEunS"
      },
      "source": [
        "#### Short circuit\n",
        "In Python, logical operations such as `and` and `or` have two useful properties. They can operate on lists and they have ['short-circuit' behavior](https://docs.python.org/3/library/stdtypes.html)."
      ],
      "id": "585DVQpwEunS"
    },
    {
      "cell_type": "code",
      "execution_count": 26,
      "metadata": {
        "colab": {
          "base_uri": "https://localhost:8080/"
        },
        "id": "pTdYMp0iEunS",
        "outputId": "8fed776f-77df-4420-e47b-e883102ab144"
      },
      "outputs": [
        {
          "output_type": "stream",
          "name": "stdout",
          "text": [
            "[]\n",
            "['a', 'b']\n",
            "['Most', 'Likely']\n",
            "['least', 'of', 'all']\n"
          ]
        }
      ],
      "source": [
        "# example of logical operation on lists or sets\n",
        "print( [] and [\"a\",\"b\"] )\n",
        "print( [] or [\"a\",\"b\"] )\n",
        "#example of Short circuit behavior\n",
        "val1 =  [\"Most\",\"Likely\"] or [\"Less\",\"so\"] or [\"least\",\"of\",\"all\"]  # selects first, does not evalute remainder\n",
        "print(val1)\n",
        "val2 =  [] or [] or [\"least\",\"of\",\"all\"] # continues evaluation until there is a non-empty list\n",
        "print(val2)"
      ],
      "id": "pTdYMp0iEunS"
    },
    {
      "cell_type": "markdown",
      "metadata": {
        "id": "4B4vVcOpEunS"
      },
      "source": [
        "The logical `or` could be used to implement the suggestion algorithm very compactly. Alternately, if/elif/else constructs could be used.\n",
        "\n",
        "**Step 2**: Create a 'best_words' dictionary where the 'key' is a suggestion and the 'value' is the probability of that word in your vocabulary. If the word is not in the vocabulary, assign it a probability of 0.\n",
        "\n",
        "**Step 3**: Select the n best suggestions. There may be fewer than n."
      ],
      "id": "4B4vVcOpEunS"
    },
    {
      "cell_type": "code",
      "execution_count": 27,
      "metadata": {
        "id": "0PEE6YYfEunS"
      },
      "outputs": [],
      "source": [
        "\n",
        "def get_corrections(word, probs, vocab, n=2, verbose = False):\n",
        "\n",
        "\n",
        "    suggestions = []\n",
        "    n_best = []\n",
        "\n",
        "    #Step 1: create suggestions as described above\n",
        "    suggestions = list((word in vocab and word) or edit_one_letter(word).intersection(vocab) or edit_two_letters(word).intersection(vocab))\n",
        "\n",
        "    #Step 2: determine probability of suggestions\n",
        "    suggestion_probs = [(s, probs[s]) for s in suggestions]\n",
        "\n",
        "    #Step 3: Get all your best words and return the most probable top n_suggested words as n_best\n",
        "\n",
        "    n_best = sorted(suggestion_probs, key=lambda x: x[1], reverse=True)[:n]\n",
        "\n",
        "\n",
        "    if verbose: print(\"entered word = \", word, \"\\nsuggestions = \", suggestions)\n",
        "\n",
        "\n",
        "    return n_best"
      ],
      "id": "0PEE6YYfEunS"
    },
    {
      "cell_type": "code",
      "execution_count": 28,
      "metadata": {
        "colab": {
          "base_uri": "https://localhost:8080/"
        },
        "id": "GWcNKGlVEunS",
        "outputId": "73c9e064-4afc-4faa-82d5-beed443ebc3a"
      },
      "outputs": [
        {
          "output_type": "stream",
          "name": "stdout",
          "text": [
            "entered word =  dys \n",
            "suggestions =  ['days', 'dye']\n",
            "word 0: days, probability 0.000410\n",
            "word 1: dye, probability 0.000019\n",
            "data type of corrections <class 'list'>\n"
          ]
        }
      ],
      "source": [
        "# Test our implementation\n",
        "my_word = 'dys'\n",
        "tmp_corrections = get_corrections(my_word, probs, vocab, 2, verbose=True) # keep verbose=True\n",
        "for i, word_prob in enumerate(tmp_corrections):\n",
        "    print(f\"word {i}: {word_prob[0]}, probability {word_prob[1]:.6f}\")\n",
        "\n",
        "\n",
        "print(f\"data type of corrections {type(tmp_corrections)}\")"
      ],
      "id": "GWcNKGlVEunS"
    },
    {
      "cell_type": "markdown",
      "metadata": {
        "id": "rTDtbiNKEunT"
      },
      "source": [
        "<a name='4'></a>\n",
        "## 4 - Minimum Edit Distance\n",
        "\n",
        "Now We have implemented your auto-correct, how do we evaluate the similarity between two strings? For example: 'waht' and 'what'\n",
        "\n",
        "Also how do you efficiently find the shortest path to go from the word, 'waht' to the word 'what'?\n",
        "\n",
        "We will implement a dynamic programming system that will tell you the minimum number of edits required to convert a string into another string."
      ],
      "id": "rTDtbiNKEunT"
    },
    {
      "cell_type": "markdown",
      "metadata": {
        "id": "XmzxvflSEunT"
      },
      "source": [
        "<a name='4-1'></a>\n",
        "### 4.1 - Dynamic Programming\n",
        "\n",
        "Dynamic Programming breaks a problem down into subproblems which can be combined to form the final solution. Here, given a string source[0..i] and a string target[0..j], we will compute all the combinations of substrings[i, j] and calculate their edit distance. To do this efficiently, we will use a table to maintain the previously computed substrings and use those to calculate larger substrings.\n",
        "\n",
        "We have to create a matrix and update each element in the matrix as follows:  "
      ],
      "id": "XmzxvflSEunT"
    },
    {
      "cell_type": "markdown",
      "metadata": {
        "id": "HG5IjdEBEunT"
      },
      "source": [
        "$$\\text{Initialization}$$\n",
        "\n",
        "\\begin{align}\n",
        "D[0,0] &= 0 \\\\\n",
        "D[i,0] &= D[i-1,0] + del\\_cost(source[i]) \\tag{4}\\\\\n",
        "D[0,j] &= D[0,j-1] + ins\\_cost(target[j]) \\\\\n",
        "\\end{align}"
      ],
      "id": "HG5IjdEBEunT"
    },
    {
      "cell_type": "markdown",
      "metadata": {
        "id": "KnOdMJTQEunT"
      },
      "source": [
        "\n",
        "$$\\text{Per Cell Operations}$$\n",
        "\\begin{align}\n",
        " \\\\\n",
        "D[i,j] =min\n",
        "\\begin{cases}\n",
        "D[i-1,j] + del\\_cost\\\\\n",
        "D[i,j-1] + ins\\_cost\\\\\n",
        "D[i-1,j-1] + \\left\\{\\begin{matrix}\n",
        "rep\\_cost; & if src[i]\\neq tar[j]\\\\\n",
        "0 ; & if src[i]=tar[j]\n",
        "\\end{matrix}\\right.\n",
        "\\end{cases}\n",
        "\\tag{5}\n",
        "\\end{align}"
      ],
      "id": "KnOdMJTQEunT"
    },
    {
      "cell_type": "markdown",
      "metadata": {
        "id": "7yqMfFd8EunT"
      },
      "source": [
        "So converting the source word **play** to the target word **stay**, using an input cost of one, a delete cost of 1, and replace cost of 2 would give you the following table:\n",
        "<table style=\"width:20%\">\n",
        "\n",
        "  <tr>\n",
        "    <td> <b> </b>  </td>\n",
        "    <td> <b># </b>  </td>\n",
        "    <td> <b>s </b>  </td>\n",
        "    <td> <b>t </b> </td>\n",
        "    <td> <b>a </b> </td>\n",
        "    <td> <b>y </b> </td>\n",
        "  </tr>\n",
        "   <tr>\n",
        "    <td> <b>  #  </b></td>\n",
        "    <td> 0</td>\n",
        "    <td> 1</td>\n",
        "    <td> 2</td>\n",
        "    <td> 3</td>\n",
        "    <td> 4</td>\n",
        "\n",
        "  </tr>\n",
        "  <tr>\n",
        "    <td> <b>  p  </b></td>\n",
        "    <td> 1</td>\n",
        " <td> 2</td>\n",
        "    <td> 3</td>\n",
        "    <td> 4</td>\n",
        "   <td> 5</td>\n",
        "  </tr>\n",
        "   \n",
        "  <tr>\n",
        "    <td> <b> l </b></td>\n",
        "    <td>2</td>\n",
        "    <td>3</td>\n",
        "    <td>4</td>\n",
        "    <td>5</td>\n",
        "    <td>6</td>\n",
        "  </tr>\n",
        "\n",
        "  <tr>\n",
        "    <td> <b> a </b></td>\n",
        "    <td>3</td>\n",
        "     <td>4</td>\n",
        "     <td>5</td>\n",
        "     <td>4</td>\n",
        "     <td>5</td>\n",
        "  </tr>\n",
        "  \n",
        "   <tr>\n",
        "    <td> <b> y </b></td>\n",
        "    <td>4</td>\n",
        "      <td>5</td>\n",
        "     <td>6</td>\n",
        "     <td>5</td>\n",
        "     <td>4</td>\n",
        "  </tr>\n",
        "  \n",
        "\n",
        "</table>\n",
        "\n"
      ],
      "id": "7yqMfFd8EunT"
    },
    {
      "cell_type": "markdown",
      "metadata": {
        "id": "awUBRjkGEunT"
      },
      "source": [
        "The operations used in this algorithm are 'insert', 'delete', and 'replace'. These correspond to the functions that we defined earlier: insert_letter(), delete_letter() and replace_letter(). switch_letter() is not used here."
      ],
      "id": "awUBRjkGEunT"
    },
    {
      "cell_type": "markdown",
      "metadata": {
        "id": "ezmX_R98EunU"
      },
      "source": [
        "<a name='ex-11'></a>\n",
        "### Exercise 11 - min_edit_distance\n",
        "\n",
        "Again, the word \"substitution\" appears in the figure, but think of this as \"replacement\"."
      ],
      "id": "ezmX_R98EunU"
    },
    {
      "cell_type": "markdown",
      "metadata": {
        "id": "KGT92Yo1EunU"
      },
      "source": [
        "Implement the function below to get the minimum amount of edits required given a source string and a target string."
      ],
      "id": "KGT92Yo1EunU"
    },
    {
      "cell_type": "code",
      "execution_count": 29,
      "metadata": {
        "id": "cLx_9ISjEunV"
      },
      "outputs": [],
      "source": [
        "def min_edit_distance(source, target, ins_cost = 1, del_cost = 1, rep_cost = 2):\n",
        "\n",
        "    # use deletion and insert cost as  1\n",
        "    m = len(source)\n",
        "    n = len(target)\n",
        "    #initialize cost matrix with zeros and dimensions (m+1,n+1)\n",
        "    D = np.zeros((m+1, n+1), dtype=int)\n",
        "\n",
        "\n",
        "    # Fill in column 0, from row 1 to row m, both inclusive\n",
        "    for row in range(1,m+1): # Replace None with the proper range\n",
        "        D[row,0] = D[row-1,0] + del_cost\n",
        "\n",
        "    # Fill in row 0, for all columns from 1 to n, both inclusive\n",
        "    for col in range(1,n+1): # Replace None with the proper range\n",
        "        D[0,col] = D[0,col-1] + ins_cost\n",
        "\n",
        "    # Loop through row 1 to row m, both inclusive\n",
        "    for row in range(1,m+1):\n",
        "\n",
        "        # Loop through column 1 to column n, both inclusive\n",
        "        for col in range(1, n+1):\n",
        "\n",
        "            # Intialize r_cost to the 'replace' cost that is passed into this function\n",
        "            r_cost = rep_cost\n",
        "\n",
        "            # Check to see if source character at the previous row\n",
        "            # matches the target character at the previous column,\n",
        "            if source[row-1] == target[col-1]: # Replace None with a proper comparison\n",
        "                # Update the replacement cost to 0 if source and target are the same\n",
        "                r_cost = 0\n",
        "\n",
        "            # Update the cost at row, col based on previous entries in the cost matrix\n",
        "            # Refer to the equation calculate for D[i,j] (the minimum of three calculated costs)\n",
        "            D[row,col] = min([D[row-1,col]+del_cost, D[row,col-1]+ins_cost, D[row-1,col-1]+r_cost])\n",
        "\n",
        "    # Set the minimum edit distance with the cost found at row m, column n\n",
        "    med = D[m,n]\n",
        "\n",
        "    return D, med"
      ],
      "id": "cLx_9ISjEunV"
    },
    {
      "cell_type": "code",
      "execution_count": 30,
      "metadata": {
        "colab": {
          "base_uri": "https://localhost:8080/"
        },
        "id": "ORTjva4kEunV",
        "outputId": "7c1dd047-0929-447c-f68b-eedae7290201"
      },
      "outputs": [
        {
          "output_type": "stream",
          "name": "stdout",
          "text": [
            "minimum edits:  4 \n",
            "\n",
            "   #  s  t  a  y\n",
            "#  0  1  2  3  4\n",
            "p  1  2  3  4  5\n",
            "l  2  3  4  5  6\n",
            "a  3  4  5  4  5\n",
            "y  4  5  6  5  4\n"
          ]
        }
      ],
      "source": [
        "# testing our implementation\n",
        "source =  'play'\n",
        "target = 'stay'\n",
        "matrix, min_edits = min_edit_distance(source, target)\n",
        "print(\"minimum edits: \",min_edits, \"\\n\")\n",
        "idx = list('#' + source)\n",
        "cols = list('#' + target)\n",
        "df = pd.DataFrame(matrix, index=idx, columns= cols)\n",
        "print(df)"
      ],
      "id": "ORTjva4kEunV"
    },
    {
      "cell_type": "code",
      "execution_count": 31,
      "metadata": {
        "deletable": false,
        "editable": false,
        "colab": {
          "base_uri": "https://localhost:8080/"
        },
        "id": "NZ4ka2z6EunV",
        "outputId": "c2db9ad5-ed8f-4c4e-e22a-0f5f655326da"
      },
      "outputs": [
        {
          "output_type": "stream",
          "name": "stdout",
          "text": [
            "minimum edits:  3 \n",
            "\n",
            "   #  n  e  a  r\n",
            "#  0  1  2  3  4\n",
            "e  1  2  1  2  3\n",
            "e  2  3  2  3  4\n",
            "r  3  4  3  4  3\n"
          ]
        }
      ],
      "source": [
        "\n",
        "# testing our implementation\n",
        "source =  'eer'\n",
        "target = 'near'\n",
        "matrix, min_edits = min_edit_distance(source, target)\n",
        "print(\"minimum edits: \",min_edits, \"\\n\")\n",
        "idx = list(source)\n",
        "idx.insert(0, '#')\n",
        "cols = list(target)\n",
        "cols.insert(0, '#')\n",
        "df = pd.DataFrame(matrix, index=idx, columns= cols)\n",
        "print(df)"
      ],
      "id": "NZ4ka2z6EunV"
    },
    {
      "cell_type": "markdown",
      "metadata": {
        "id": "uoxrRchbEunW"
      },
      "source": [
        "We can now test several of our routines at once:"
      ],
      "id": "uoxrRchbEunW"
    },
    {
      "cell_type": "code",
      "execution_count": 32,
      "metadata": {
        "id": "wPrUq7XnEunW"
      },
      "outputs": [],
      "source": [
        "source = \"eer\"\n",
        "targets = edit_one_letter(source,allow_switches = False)  #disable switches since min_edit_distance does not include them\n",
        "for t in targets:\n",
        "    _, min_edits = min_edit_distance(source, t,1,1,1)  # set ins, del, sub costs all to one\n",
        "    if min_edits != 1: print(source, t, min_edits)"
      ],
      "id": "wPrUq7XnEunW"
    },
    {
      "cell_type": "code",
      "execution_count": 33,
      "metadata": {
        "colab": {
          "base_uri": "https://localhost:8080/"
        },
        "id": "VF35_gGrEunX",
        "outputId": "0cef2f59-40dc-48f3-df68-309d0082ac93"
      },
      "outputs": [
        {
          "output_type": "stream",
          "name": "stdout",
          "text": [
            "eer eer 0\n"
          ]
        }
      ],
      "source": [
        "source = \"eer\"\n",
        "targets = edit_two_letters(source,allow_switches = False) #disable switches since min_edit_distance does not include them\n",
        "for t in targets:\n",
        "    _, min_edits = min_edit_distance(source, t,1,1,1)  # set ins, del, sub costs all to one\n",
        "    if min_edits != 2 and min_edits != 1: print(source, t, min_edits)"
      ],
      "id": "VF35_gGrEunX"
    },
    {
      "cell_type": "markdown",
      "metadata": {
        "id": "rmoVRZg3EunX"
      },
      "source": [
        "<a name='5'></a>\n",
        "## 5 - Backtrace\n",
        "\n",
        "\n",
        "Once We have computed your matrix using minimum edit distance, how would find the shortest path from the top left corner to the bottom right corner?\n",
        "\n",
        " We could use backtrace algorithm.  Try to find the shortest path given the matrix that We `min_edit_distance` function returned.\n",
        "\n",
        "We can use these [lecture slides on minimum edit distance](https://web.stanford.edu/class/cs124/lec/med.pdf) by Dan Jurafsky to learn about the algorithm for backtrace."
      ],
      "id": "rmoVRZg3EunX"
    },
    {
      "cell_type": "markdown",
      "metadata": {
        "id": "_fXU5SIHEunX"
      },
      "source": [
        "#### References\n",
        "- Dan Jurafsky - Speech and Language Processing - Textbook\n",
        "- This auto-correct explanation was first done by Peter Norvig in 2007"
      ],
      "id": "_fXU5SIHEunX"
    }
  ],
  "metadata": {
    "jupytext": {
      "encoding": "# -*- coding: utf-8 -*-"
    },
    "kernelspec": {
      "display_name": "Python 3",
      "language": "python",
      "name": "python3"
    },
    "language_info": {
      "codemirror_mode": {
        "name": "ipython",
        "version": 3
      },
      "file_extension": ".py",
      "mimetype": "text/x-python",
      "name": "python",
      "nbconvert_exporter": "python",
      "pygments_lexer": "ipython3",
      "version": "3.7.6"
    },
    "colab": {
      "provenance": [],
      "collapsed_sections": [
        "vjvDfWoBEunA"
      ]
    }
  },
  "nbformat": 4,
  "nbformat_minor": 5
}